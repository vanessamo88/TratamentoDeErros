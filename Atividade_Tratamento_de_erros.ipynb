{
  "nbformat": 4,
  "nbformat_minor": 0,
  "metadata": {
    "colab": {
      "provenance": [],
      "authorship_tag": "ABX9TyN9zKgm9iI7svhxv2NL/u4K",
      "include_colab_link": true
    },
    "kernelspec": {
      "name": "python3",
      "display_name": "Python 3"
    },
    "language_info": {
      "name": "python"
    }
  },
  "cells": [
    {
      "cell_type": "markdown",
      "metadata": {
        "id": "view-in-github",
        "colab_type": "text"
      },
      "source": [
        "<a href=\"https://colab.research.google.com/github/vanessamo88/TratamentoDeErros/blob/main/Atividade_Tratamento_de_erros.ipynb\" target=\"_parent\"><img src=\"https://colab.research.google.com/assets/colab-badge.svg\" alt=\"Open In Colab\"/></a>"
      ]
    },
    {
      "cell_type": "markdown",
      "source": [
        "### **Introdução**\n",
        "\n",
        "Realizada atividade proposta pelo curso de Analista de Dados da EBAC - Escola Britânica de Artes Criativas e Tecnologia, onde foram entregues códigos para que fosse feita análise para tratativa de erros.\n",
        "Foram verificados e corrigidos erros de sintaxe em: laços de repetição, funções, programação funcional, programação orientada à objetos e erros em tempo de execução."
      ],
      "metadata": {
        "id": "ftpNCfNHMu9k"
      }
    },
    {
      "cell_type": "code",
      "execution_count": null,
      "metadata": {
        "id": "1wyyPBvJMdzV"
      },
      "outputs": [],
      "source": []
    },
    {
      "cell_type": "markdown",
      "source": [
        "## **Erros de sintaxe 01: Laços de repetição**\n",
        "\n",
        "Identifique o erro de sintaxe nos trechos de código abaixo e corrija-os para que o trecho de código funcione.\n",
        "\n",
        "Execute o código inicial para ver a mensagem de erro. Altere o mínimo necessário para deixar o código funcionando."
      ],
      "metadata": {
        "id": "s6WytqHRM9kv"
      }
    },
    {
      "cell_type": "code",
      "source": [
        "credito = {'123': 750, '456': 812, '789': 980}\n",
        "\n",
        "for chave, valor in credito.items():\n",
        "\tprint(f'Para o documento {chave}, o valor do escore de crédito é {valor}.')"
      ],
      "metadata": {
        "colab": {
          "base_uri": "https://localhost:8080/"
        },
        "id": "eJoXxlswNDVB",
        "outputId": "6a7cca99-9aae-4d17-c53e-74d08ea42ae5"
      },
      "execution_count": 1,
      "outputs": [
        {
          "output_type": "stream",
          "name": "stdout",
          "text": [
            "Para o documento 123, o valor do escore de crédito é 750.\n",
            "Para o documento 456, o valor do escore de crédito é 812.\n",
            "Para o documento 789, o valor do escore de crédito é 980.\n"
          ]
        }
      ]
    },
    {
      "cell_type": "markdown",
      "source": [
        "## **Erros de sintaxe 02: Funções**\n",
        "\n",
        "Identifique o erro de sintaxe nos trechos de código abaixo e corrija-os para que o trecho de código funcione.\n",
        "Execute o código inicial para ver a mensagem de erro. Altere o mínimo necessário para deixar o código funcionando."
      ],
      "metadata": {
        "id": "O84onkhiNLPb"
      }
    },
    {
      "cell_type": "code",
      "source": [
        "def pi_func():\n",
        "    return 3.14159265359\n",
        "\n",
        "pi_var = pi_func()\n",
        "print(pi_var)\n"
      ],
      "metadata": {
        "colab": {
          "base_uri": "https://localhost:8080/"
        },
        "id": "ywSTg1ubNOfD",
        "outputId": "95be9876-194d-46b4-8f5b-db87217c8211"
      },
      "execution_count": 2,
      "outputs": [
        {
          "output_type": "stream",
          "name": "stdout",
          "text": [
            "3.14159265359\n"
          ]
        }
      ]
    },
    {
      "cell_type": "markdown",
      "source": [
        "## **Erros de sintaxe 03: Programação Funcional**\n",
        "\n",
        "Identifique o erro de sintaxe nos trechos de código abaixo e corrija-os para que o trecho de código funcione.\n",
        "Execute o código inicial para ver a mensagem de erro. Altere o mínimo necessário para deixar o código funcionando."
      ],
      "metadata": {
        "id": "GvlDop2mNSMD"
      }
    },
    {
      "cell_type": "code",
      "source": [
        "emails = ['andre.perez@gmail.com', 'andre.perez@live.com', 'andre.perez@yahoo.com']\n",
        "provedor_da_google = lambda email: 'gmail' in email\n",
        "\n",
        "emails_google = filter(provedor_da_google, emails)\n",
        "print(list(emails_google))"
      ],
      "metadata": {
        "colab": {
          "base_uri": "https://localhost:8080/"
        },
        "id": "0IxAB7_xNXQb",
        "outputId": "8c03940c-c7bd-4419-a0f8-99654bcb24fc"
      },
      "execution_count": 3,
      "outputs": [
        {
          "output_type": "stream",
          "name": "stdout",
          "text": [
            "['andre.perez@gmail.com']\n"
          ]
        }
      ]
    },
    {
      "cell_type": "markdown",
      "source": [
        "## **Erros de sintaxe 04: Programação orientação a objetos**\n",
        "\n",
        "Identifique o erro de sintaxe nos trechos de código abaixo e corrija-os para que o trecho de código funcione.\n",
        "Execute o código inicial para ver a mensagem de erro. Altere o mínimo necessário para deixar o código funcionando."
      ],
      "metadata": {
        "id": "hQsb2C8dNblz"
      }
    },
    {
      "cell_type": "code",
      "source": [
        "class Pessoa(object):\n",
        "\tdef __init__(self, nome: str, idade: int, documento: str):\n",
        "\t\tself.nome = nome\n",
        "\t\tself.idade = idade\n",
        "\t\tself.documento = documento\n",
        "\n",
        "andre = Pessoa(nome=\"Andre\", idade=30, documento=\"123\")"
      ],
      "metadata": {
        "id": "zc9BMzZTNf27"
      },
      "execution_count": 4,
      "outputs": []
    }
  ]
}